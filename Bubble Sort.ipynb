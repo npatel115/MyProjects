{
 "cells": [
  {
   "cell_type": "code",
   "execution_count": 25,
   "metadata": {},
   "outputs": [
    {
     "name": "stdout",
     "output_type": "stream",
     "text": [
      "\n",
      "Iteration 1\n",
      "[12, 54, 67, 2, 18, 123, 13, 2022]\n",
      "[12, 54, 67, 2, 18, 123, 13, 2022]\n",
      "[12, 54, 2, 67, 18, 123, 13, 2022]\n",
      "[12, 54, 2, 18, 67, 123, 13, 2022]\n",
      "[12, 54, 2, 18, 67, 123, 13, 2022]\n",
      "[12, 54, 2, 18, 67, 13, 123, 2022]\n",
      "[12, 54, 2, 18, 67, 13, 123, 2022]\n",
      "\n",
      "Iteration 2\n",
      "[12, 54, 2, 18, 67, 13, 123, 2022]\n",
      "[12, 2, 54, 18, 67, 13, 123, 2022]\n",
      "[12, 2, 18, 54, 67, 13, 123, 2022]\n",
      "[12, 2, 18, 54, 67, 13, 123, 2022]\n",
      "[12, 2, 18, 54, 13, 67, 123, 2022]\n",
      "[12, 2, 18, 54, 13, 67, 123, 2022]\n",
      "\n",
      "Iteration 3\n",
      "[2, 12, 18, 54, 13, 67, 123, 2022]\n",
      "[2, 12, 18, 54, 13, 67, 123, 2022]\n",
      "[2, 12, 18, 54, 13, 67, 123, 2022]\n",
      "[2, 12, 18, 13, 54, 67, 123, 2022]\n",
      "[2, 12, 18, 13, 54, 67, 123, 2022]\n",
      "\n",
      "Iteration 4\n",
      "[2, 12, 18, 13, 54, 67, 123, 2022]\n",
      "[2, 12, 18, 13, 54, 67, 123, 2022]\n",
      "[2, 12, 13, 18, 54, 67, 123, 2022]\n",
      "[2, 12, 13, 18, 54, 67, 123, 2022]\n",
      "\n",
      "Iteration 5\n",
      "[2, 12, 13, 18, 54, 67, 123, 2022]\n",
      "[2, 12, 13, 18, 54, 67, 123, 2022]\n",
      "[2, 12, 13, 18, 54, 67, 123, 2022]\n",
      "\n",
      "Iteration 6\n",
      "[2, 12, 13, 18, 54, 67, 123, 2022]\n",
      "[2, 12, 13, 18, 54, 67, 123, 2022]\n",
      "\n",
      "Iteration 7\n",
      "[2, 12, 13, 18, 54, 67, 123, 2022]\n"
     ]
    }
   ],
   "source": [
    "my_list = [12,54,67,2,18,123,13,2022]\n",
    "\n",
    "for y in range(len(my_list)-1):\n",
    "    print(\"\\nIteration {}\".format(y+1))\n",
    "    for x in range(len(my_list)-1-y):\n",
    "        if my_list[x] > my_list[x+1]:\n",
    "            list_item = my_list.pop(x)\n",
    "            my_list.insert(x+1, list_item)\n",
    "        print(my_list)"
   ]
  },
  {
   "cell_type": "code",
   "execution_count": 26,
   "metadata": {},
   "outputs": [
    {
     "name": "stdout",
     "output_type": "stream",
     "text": [
      "\n",
      "Bubble sort complete! The sorted list is: [2, 12, 13, 18, 54, 67, 123, 2022]\n"
     ]
    }
   ],
   "source": [
    "print(\"\\nBubble sort complete! The sorted list is: {}\".format(my_list))"
   ]
  }
 ],
 "metadata": {
  "kernelspec": {
   "display_name": "Python 3",
   "language": "python",
   "name": "python3"
  },
  "language_info": {
   "codemirror_mode": {
    "name": "ipython",
    "version": 3
   },
   "file_extension": ".py",
   "mimetype": "text/x-python",
   "name": "python",
   "nbconvert_exporter": "python",
   "pygments_lexer": "ipython3",
   "version": "3.8.3"
  }
 },
 "nbformat": 4,
 "nbformat_minor": 4
}
